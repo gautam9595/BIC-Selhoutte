{
 "cells": [
  {
   "cell_type": "code",
   "execution_count": 2,
   "metadata": {},
   "outputs": [],
   "source": [
    "import numpy as np\n",
    "import pandas as pd\n",
    "import matplotlib.pyplot as plt\n",
    "import math\n",
    "from scipy.spatial import distance\n",
    "from sklearn.datasets import load_iris"
   ]
  },
  {
   "cell_type": "code",
   "execution_count": 17,
   "metadata": {},
   "outputs": [
    {
     "data": {
      "text/plain": [
       "['DESCR', 'data', 'feature_names', 'filename', 'target', 'target_names']"
      ]
     },
     "execution_count": 17,
     "metadata": {},
     "output_type": "execute_result"
    }
   ],
   "source": [
    "iris=load_iris()\n",
    "dir(iris)"
   ]
  },
  {
   "cell_type": "code",
   "execution_count": 5,
   "metadata": {},
   "outputs": [],
   "source": [
    "from sklearn.cluster import KMeans"
   ]
  },
  {
   "cell_type": "code",
   "execution_count": 21,
   "metadata": {},
   "outputs": [],
   "source": [
    "def find_bic(kmeans,X):\n",
    "    \n",
    "    centers = [kmeans.cluster_centers_]\n",
    "    labels  = kmeans.labels_\n",
    "    m = kmeans.n_clusters\n",
    "    n = np.bincount(labels)\n",
    "    N, d = X.shape\n",
    "\n",
    "    cl_var=(1.0/(N - m)/d)*sum([sum(distance.cdist(X[np.where(labels==i)],[centers[0][i]],'euclidean')**2) for i in range(m)])\n",
    "    const_term=0.5*m*np.log(N)*(d+1)\n",
    "    BIC=np.sum([n[i]*np.log(n[i])-n[i]*np.log(N)-((n[i]*d)/2)*np.log(2*np.pi*cl_var)-((n[i]-1)*d/2) for i in range(m)])-const_term\n",
    "\n",
    "    return(BIC)"
   ]
  },
  {
   "cell_type": "code",
   "execution_count": 31,
   "metadata": {},
   "outputs": [
    {
     "name": "stdout",
     "output_type": "stream",
     "text": [
      "[-826.1367693646696, -799.6794727282744, -804.8347143453199, -763.4331091276454, -1003.5610920744257, -1039.8638529301404, -1106.5386987046672, -1065.2451871223523, -1214.1943242425752, -1215.300151255735]\n"
     ]
    }
   ],
   "source": [
    "BIC=[]\n",
    "for i in range(2,int(math.sqrt(len(iris.data)))):\n",
    "    kms=KMeans(n_clusters=i)\n",
    "    label=kms.fit_predict(iris.data)\n",
    "    BIC.append(find_bic(kms,iris.data)/silhouette_score(iris.data,label))\n",
    "    \n",
    "print(BIC)"
   ]
  },
  {
   "cell_type": "code",
   "execution_count": 32,
   "metadata": {},
   "outputs": [
    {
     "data": {
      "text/plain": [
       "[<matplotlib.lines.Line2D at 0x10cabb0>]"
      ]
     },
     "execution_count": 32,
     "metadata": {},
     "output_type": "execute_result"
    },
    {
     "data": {
      "image/png": "[encoded data removed]",
      "text/plain": [
       "<Figure size 432x288 with 1 Axes>"
      ]
     },
     "metadata": {
      "needs_background": "light"
     },
     "output_type": "display_data"
    }
   ],
   "source": [
    "plt.plot(range(2,int(math.sqrt(len(iris.data)))),BIC)"
   ]
  },
  {
   "cell_type": "code",
   "execution_count": 33,
   "metadata": {},
   "outputs": [],
   "source": [
    "from sklearn.metrics import silhouette_score\n",
    "from sklearn.metrics import silhouette_samples"
   ]
  },
  {
   "cell_type": "code",
   "execution_count": null,
   "metadata": {},
   "outputs": [],
   "source": []
  }
 ],
 "metadata": {
  "kernelspec": {
   "display_name": "Python 3",
   "language": "python",
   "name": "python3"
  },
  "language_info": {
   "codemirror_mode": {
    "name": "ipython",
    "version": 3
   },
   "file_extension": ".py",
   "mimetype": "text/x-python",
   "name": "python",
   "nbconvert_exporter": "python",
   "pygments_lexer": "ipython3",
   "version": "3.6.5"
  }
 },
 "nbformat": 4,
 "nbformat_minor": 2
}
